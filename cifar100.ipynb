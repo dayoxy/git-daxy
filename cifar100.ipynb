{
  "cells": [
    {
      "cell_type": "markdown",
      "metadata": {
        "id": "view-in-github",
        "colab_type": "text"
      },
      "source": [
        "<a href=\"https://colab.research.google.com/github/dayoxy/git-daxy/blob/main/cifar100.ipynb\" target=\"_parent\"><img src=\"https://colab.research.google.com/assets/colab-badge.svg\" alt=\"Open In Colab\"/></a>"
      ]
    },
    {
      "cell_type": "code",
      "execution_count": 2,
      "metadata": {
        "colab": {
          "base_uri": "https://localhost:8080/"
        },
        "id": "czJp8V4XHuEj",
        "outputId": "69d1d24e-dee8-4b62-ba39-95d9102b7587"
      },
      "outputs": [
        {
          "output_type": "stream",
          "name": "stdout",
          "text": [
            "Requirement already satisfied: tensorflow in /usr/local/lib/python3.11/dist-packages (2.18.0)\n",
            "Collecting tensorflow-gpu\n",
            "  Downloading tensorflow-gpu-2.12.0.tar.gz (2.6 kB)\n",
            "  \u001b[1;31merror\u001b[0m: \u001b[1msubprocess-exited-with-error\u001b[0m\n",
            "  \n",
            "  \u001b[31m×\u001b[0m \u001b[32mpython setup.py egg_info\u001b[0m did not run successfully.\n",
            "  \u001b[31m│\u001b[0m exit code: \u001b[1;36m1\u001b[0m\n",
            "  \u001b[31m╰─>\u001b[0m See above for output.\n",
            "  \n",
            "  \u001b[1;35mnote\u001b[0m: This error originates from a subprocess, and is likely not a problem with pip.\n",
            "  Preparing metadata (setup.py) ... \u001b[?25l\u001b[?25herror\n",
            "\u001b[1;31merror\u001b[0m: \u001b[1mmetadata-generation-failed\u001b[0m\n",
            "\n",
            "\u001b[31m×\u001b[0m Encountered error while generating package metadata.\n",
            "\u001b[31m╰─>\u001b[0m See above for output.\n",
            "\n",
            "\u001b[1;35mnote\u001b[0m: This is an issue with the package mentioned above, not pip.\n",
            "\u001b[1;36mhint\u001b[0m: See above for details.\n"
          ]
        }
      ],
      "source": [
        "!pip install tensorflow tensorflow-gpu matplotlib tensorflow-datasets ipywidgets"
      ]
    },
    {
      "cell_type": "code",
      "execution_count": 3,
      "metadata": {
        "colab": {
          "base_uri": "https://localhost:8080/"
        },
        "id": "ATtz5e06H2bN",
        "outputId": "5e5a89f7-fdf7-4150-aa38-c26dbf09fdb5"
      },
      "outputs": [
        {
          "output_type": "stream",
          "name": "stdout",
          "text": [
            "Check my GPU []\n"
          ]
        }
      ],
      "source": [
        "import tensorflow as tf\n",
        "print(\"Check my GPU\", tf.config.list_physical_devices(\"GPU\"))"
      ]
    },
    {
      "cell_type": "code",
      "execution_count": 4,
      "metadata": {
        "colab": {
          "base_uri": "https://localhost:8080/"
        },
        "id": "n-gbPqHJIBzO",
        "outputId": "6426a5ab-199f-4e5b-93de-d68c7c345e97"
      },
      "outputs": [
        {
          "output_type": "stream",
          "name": "stdout",
          "text": [
            "No GPU detected\n"
          ]
        }
      ],
      "source": [
        "physical_devices = tf.config.list_physical_devices('GPU')\n",
        "if len(physical_devices) > 0:\n",
        "    tf.config.experimental.set_memory_growth(physical_devices[0], True)\n",
        "    print(\"GPU configured with memory growth\")\n",
        "else:\n",
        "    print(\"No GPU detected\")"
      ]
    },
    {
      "cell_type": "code",
      "execution_count": 5,
      "metadata": {
        "id": "IoU_Bt4dIGjj"
      },
      "outputs": [],
      "source": [
        "import tensorflow as tf\n",
        "import matplotlib.pyplot as plt\n",
        "import numpy as np\n",
        "from tensorflow import keras\n",
        "from tensorflow.keras import layers, models\n",
        "import tensorflow_datasets as tfds\n",
        "from matplotlib import pyplot as plt"
      ]
    },
    {
      "cell_type": "code",
      "execution_count": 6,
      "metadata": {
        "colab": {
          "base_uri": "https://localhost:8080/"
        },
        "id": "GmK8CoEbILNp",
        "outputId": "ef2ced3e-5d76-48ec-a8bd-21b383fce6d3"
      },
      "outputs": [
        {
          "output_type": "stream",
          "name": "stdout",
          "text": [
            "Requirement already satisfied: tensorflow-datasets in /usr/local/lib/python3.11/dist-packages (4.9.7)\n",
            "Requirement already satisfied: absl-py in /usr/local/lib/python3.11/dist-packages (from tensorflow-datasets) (1.4.0)\n",
            "Requirement already satisfied: click in /usr/local/lib/python3.11/dist-packages (from tensorflow-datasets) (8.1.8)\n",
            "Requirement already satisfied: dm-tree in /usr/local/lib/python3.11/dist-packages (from tensorflow-datasets) (0.1.9)\n",
            "Requirement already satisfied: immutabledict in /usr/local/lib/python3.11/dist-packages (from tensorflow-datasets) (4.2.1)\n",
            "Requirement already satisfied: numpy in /usr/local/lib/python3.11/dist-packages (from tensorflow-datasets) (1.26.4)\n",
            "Requirement already satisfied: promise in /usr/local/lib/python3.11/dist-packages (from tensorflow-datasets) (2.3)\n",
            "Requirement already satisfied: protobuf>=3.20 in /usr/local/lib/python3.11/dist-packages (from tensorflow-datasets) (4.25.6)\n",
            "Requirement already satisfied: psutil in /usr/local/lib/python3.11/dist-packages (from tensorflow-datasets) (5.9.5)\n",
            "Requirement already satisfied: pyarrow in /usr/local/lib/python3.11/dist-packages (from tensorflow-datasets) (18.1.0)\n",
            "Requirement already satisfied: requests>=2.19.0 in /usr/local/lib/python3.11/dist-packages (from tensorflow-datasets) (2.32.3)\n",
            "Requirement already satisfied: simple-parsing in /usr/local/lib/python3.11/dist-packages (from tensorflow-datasets) (0.1.7)\n",
            "Requirement already satisfied: tensorflow-metadata in /usr/local/lib/python3.11/dist-packages (from tensorflow-datasets) (1.16.1)\n",
            "Requirement already satisfied: termcolor in /usr/local/lib/python3.11/dist-packages (from tensorflow-datasets) (2.5.0)\n",
            "Requirement already satisfied: toml in /usr/local/lib/python3.11/dist-packages (from tensorflow-datasets) (0.10.2)\n",
            "Requirement already satisfied: tqdm in /usr/local/lib/python3.11/dist-packages (from tensorflow-datasets) (4.67.1)\n",
            "Requirement already satisfied: wrapt in /usr/local/lib/python3.11/dist-packages (from tensorflow-datasets) (1.17.2)\n",
            "Requirement already satisfied: array-record>=0.5.0 in /usr/local/lib/python3.11/dist-packages (from tensorflow-datasets) (0.6.0)\n",
            "Requirement already satisfied: etils>=1.9.1 in /usr/local/lib/python3.11/dist-packages (from etils[edc,enp,epath,epy,etree]>=1.9.1; python_version >= \"3.11\"->tensorflow-datasets) (1.12.0)\n",
            "Requirement already satisfied: fsspec in /usr/local/lib/python3.11/dist-packages (from etils[edc,enp,epath,epy,etree]>=1.9.1; python_version >= \"3.11\"->tensorflow-datasets) (2024.10.0)\n",
            "Requirement already satisfied: importlib_resources in /usr/local/lib/python3.11/dist-packages (from etils[edc,enp,epath,epy,etree]>=1.9.1; python_version >= \"3.11\"->tensorflow-datasets) (6.5.2)\n",
            "Requirement already satisfied: typing_extensions in /usr/local/lib/python3.11/dist-packages (from etils[edc,enp,epath,epy,etree]>=1.9.1; python_version >= \"3.11\"->tensorflow-datasets) (4.12.2)\n",
            "Requirement already satisfied: zipp in /usr/local/lib/python3.11/dist-packages (from etils[edc,enp,epath,epy,etree]>=1.9.1; python_version >= \"3.11\"->tensorflow-datasets) (3.21.0)\n",
            "Requirement already satisfied: charset-normalizer<4,>=2 in /usr/local/lib/python3.11/dist-packages (from requests>=2.19.0->tensorflow-datasets) (3.4.1)\n",
            "Requirement already satisfied: idna<4,>=2.5 in /usr/local/lib/python3.11/dist-packages (from requests>=2.19.0->tensorflow-datasets) (3.10)\n",
            "Requirement already satisfied: urllib3<3,>=1.21.1 in /usr/local/lib/python3.11/dist-packages (from requests>=2.19.0->tensorflow-datasets) (2.3.0)\n",
            "Requirement already satisfied: certifi>=2017.4.17 in /usr/local/lib/python3.11/dist-packages (from requests>=2.19.0->tensorflow-datasets) (2025.1.31)\n",
            "Requirement already satisfied: attrs>=18.2.0 in /usr/local/lib/python3.11/dist-packages (from dm-tree->tensorflow-datasets) (25.1.0)\n",
            "Requirement already satisfied: six in /usr/local/lib/python3.11/dist-packages (from promise->tensorflow-datasets) (1.17.0)\n",
            "Requirement already satisfied: docstring-parser<1.0,>=0.15 in /usr/local/lib/python3.11/dist-packages (from simple-parsing->tensorflow-datasets) (0.16)\n",
            "Requirement already satisfied: googleapis-common-protos<2,>=1.56.4 in /usr/local/lib/python3.11/dist-packages (from tensorflow-metadata->tensorflow-datasets) (1.68.0)\n"
          ]
        }
      ],
      "source": [
        "pip install tensorflow-datasets"
      ]
    },
    {
      "cell_type": "code",
      "execution_count": 7,
      "metadata": {
        "colab": {
          "base_uri": "https://localhost:8080/"
        },
        "id": "7HXUOGWFIPbK",
        "outputId": "6d651e7e-d2e7-4796-8492-dc81b40eb47d"
      },
      "outputs": [
        {
          "output_type": "stream",
          "name": "stdout",
          "text": [
            "Downloading data from https://www.cs.toronto.edu/~kriz/cifar-100-python.tar.gz\n",
            "\u001b[1m169001437/169001437\u001b[0m \u001b[32m━━━━━━━━━━━━━━━━━━━━\u001b[0m\u001b[37m\u001b[0m \u001b[1m12s\u001b[0m 0us/step\n"
          ]
        }
      ],
      "source": [
        "(X_train, _), (_, _) = keras.datasets.cifar100.load_data()"
      ]
    },
    {
      "cell_type": "code",
      "execution_count": 8,
      "metadata": {
        "colab": {
          "base_uri": "https://localhost:8080/"
        },
        "id": "9ctTNb5IIiu3",
        "outputId": "523f7b0a-7701-4e0e-858c-6a5713342ef8"
      },
      "outputs": [
        {
          "output_type": "stream",
          "name": "stdout",
          "text": [
            "Data shape (50000, 32, 32, 3)\n"
          ]
        }
      ],
      "source": [
        "print(\"Data shape\",X_train.shape)"
      ]
    },
    {
      "cell_type": "code",
      "execution_count": 9,
      "metadata": {
        "colab": {
          "base_uri": "https://localhost:8080/",
          "height": 807
        },
        "id": "kC9J5OiTIqXm",
        "outputId": "8b72e650-bdc9-4a8c-fc6b-d27aebaeaa39"
      },
      "outputs": [
        {
          "output_type": "display_data",
          "data": {
            "text/plain": [
              "<Figure size 1000x1000 with 25 Axes>"
            ],
            "image/png": "[encoded data removed]"
          },
          "metadata": {}
        }
      ],
      "source": [
        "plt.figure(figsize=(10,10))\n",
        "for i in range(25):\n",
        "  plt.subplot(5, 5, i+1)\n",
        "  plt.imshow(X_train[i], cmap=\"gray\")\n",
        "  plt.axis(\"off\")\n",
        "plt.show()"
      ]
    },
    {
      "cell_type": "code",
      "execution_count": 10,
      "metadata": {
        "colab": {
          "base_uri": "https://localhost:8080/"
        },
        "id": "3A-_hxuNIzKo",
        "outputId": "d9829b88-0115-413e-8f27-3a00d058fa9e"
      },
      "outputs": [
        {
          "output_type": "execute_result",
          "data": {
            "text/plain": [
              "50000"
            ]
          },
          "metadata": {},
          "execution_count": 10
        }
      ],
      "source": [
        "#Create a pipeline\n",
        "X_train.shape[0]"
      ]
    },
    {
      "cell_type": "code",
      "execution_count": 11,
      "metadata": {
        "id": "45DTPezpI6nU"
      },
      "outputs": [],
      "source": [
        "# Normalise and reshape the data\n",
        "X_train = X_train.reshape(X_train.shape[0], 32, 32, 3).astype(\"float32\")\n",
        "X_train = (X_train - 127.5) / 127.5"
      ]
    },
    {
      "cell_type": "code",
      "execution_count": 12,
      "metadata": {
        "colab": {
          "base_uri": "https://localhost:8080/"
        },
        "id": "LwZqFo-3I-dM",
        "outputId": "13d896f8-0f1a-4d8f-c497-e25c2019c015"
      },
      "outputs": [
        {
          "output_type": "execute_result",
          "data": {
            "text/plain": [
              "(50000, 32, 32, 3)"
            ]
          },
          "metadata": {},
          "execution_count": 12
        }
      ],
      "source": [
        "X_train.shape"
      ]
    },
    {
      "cell_type": "code",
      "execution_count": 13,
      "metadata": {
        "id": "zZaI90M7JdOI"
      },
      "outputs": [],
      "source": [
        "BUFFER_SIZE = 50000\n",
        "BATCH_SIZE = 256"
      ]
    },
    {
      "cell_type": "code",
      "execution_count": 14,
      "metadata": {
        "colab": {
          "base_uri": "https://localhost:8080/"
        },
        "id": "MuTfbgpoJj1n",
        "outputId": "053956ca-7fb9-432b-e7fd-1d59fb332dec"
      },
      "outputs": [
        {
          "output_type": "execute_result",
          "data": {
            "text/plain": [
              "array([[[[ 1.        ,  1.        ,  1.        ],\n",
              "         [ 1.        ,  1.        ,  1.        ],\n",
              "         [ 1.        ,  1.        ,  1.        ],\n",
              "         ...,\n",
              "         [ 0.5294118 ,  0.60784316,  0.5137255 ],\n",
              "         [ 0.6627451 ,  0.75686276,  0.6       ],\n",
              "         [ 0.42745098,  0.52156866,  0.30980393]],\n",
              "\n",
              "        [[ 1.        ,  1.        ,  1.        ],\n",
              "         [ 0.99215686,  0.99215686,  0.99215686],\n",
              "         [ 0.99215686,  0.99215686,  0.99215686],\n",
              "         ...,\n",
              "         [ 0.33333334,  0.38039216,  0.1764706 ],\n",
              "         [ 0.2627451 ,  0.31764707,  0.01960784],\n",
              "         [ 0.14509805,  0.20784314, -0.11372549]],\n",
              "\n",
              "        [[ 1.        ,  1.        ,  1.        ],\n",
              "         [ 0.99215686,  0.99215686,  0.99215686],\n",
              "         [ 1.        ,  1.        ,  1.        ],\n",
              "         ...,\n",
              "         [ 0.48235294,  0.56078434,  0.3254902 ],\n",
              "         [ 0.3019608 ,  0.39607844,  0.01960784],\n",
              "         [-0.05098039,  0.04313726, -0.31764707]],\n",
              "\n",
              "        ...,\n",
              "\n",
              "        [[ 0.16078432,  0.4509804 , -0.38039216],\n",
              "         [ 0.11372549,  0.42745098, -0.5529412 ],\n",
              "         [ 0.09803922,  0.40392157, -0.5294118 ],\n",
              "         ...,\n",
              "         [-0.7647059 , -0.8666667 , -0.99215686],\n",
              "         [-0.49019608, -0.5137255 , -0.88235295],\n",
              "         [-0.40392157, -0.39607844, -0.84313726]],\n",
              "\n",
              "        [[-0.04313726,  0.23137255, -0.48235294],\n",
              "         [-0.05882353,  0.21568628, -0.54509807],\n",
              "         [-0.01176471,  0.25490198, -0.44313726],\n",
              "         ...,\n",
              "         [-0.827451  , -0.8745098 , -0.9764706 ],\n",
              "         [-0.23921569, -0.12156863, -0.56078434],\n",
              "         [ 0.10588235,  0.2627451 , -0.31764707]],\n",
              "\n",
              "        [[-0.31764707, -0.04313726, -0.6784314 ],\n",
              "         [-0.30980393, -0.04313726, -0.69411767],\n",
              "         [-0.20784314,  0.05098039, -0.56078434],\n",
              "         ...,\n",
              "         [-0.73333335, -0.7176471 , -0.92156863],\n",
              "         [-0.1764706 ,  0.04313726, -0.5372549 ],\n",
              "         [ 0.08235294,  0.35686275, -0.38039216]]],\n",
              "\n",
              "\n",
              "       [[[ 1.        ,  1.        ,  1.        ],\n",
              "         [ 0.9843137 ,  0.9843137 ,  0.9843137 ],\n",
              "         [ 0.9843137 ,  0.9843137 ,  0.9843137 ],\n",
              "         ...,\n",
              "         [ 0.9843137 ,  0.9843137 ,  0.9843137 ],\n",
              "         [ 0.9843137 ,  0.9843137 ,  0.9843137 ],\n",
              "         [ 1.        ,  1.        ,  1.        ]],\n",
              "\n",
              "        [[ 1.        ,  1.        ,  1.        ],\n",
              "         [ 1.        ,  1.        ,  1.        ],\n",
              "         [ 1.        ,  1.        ,  1.        ],\n",
              "         ...,\n",
              "         [ 1.        ,  1.        ,  1.        ],\n",
              "         [ 1.        ,  1.        ,  1.        ],\n",
              "         [ 1.        ,  1.        ,  1.        ]],\n",
              "\n",
              "        [[ 1.        ,  1.        ,  1.        ],\n",
              "         [ 1.        ,  1.        ,  1.        ],\n",
              "         [ 1.        ,  1.        ,  1.        ],\n",
              "         ...,\n",
              "         [ 1.        ,  1.        ,  1.        ],\n",
              "         [ 1.        ,  1.        ,  1.        ],\n",
              "         [ 1.        ,  1.        ,  1.        ]],\n",
              "\n",
              "        ...,\n",
              "\n",
              "        [[ 1.        ,  1.        ,  1.        ],\n",
              "         [ 1.        ,  1.        ,  1.        ],\n",
              "         [ 1.        ,  1.        ,  1.        ],\n",
              "         ...,\n",
              "         [ 1.        ,  1.        ,  1.        ],\n",
              "         [ 1.        ,  1.        ,  1.        ],\n",
              "         [ 1.        ,  1.        ,  1.        ]],\n",
              "\n",
              "        [[ 1.        ,  1.        ,  1.        ],\n",
              "         [ 1.        ,  1.        ,  1.        ],\n",
              "         [ 1.        ,  1.        ,  1.        ],\n",
              "         ...,\n",
              "         [ 1.        ,  1.        ,  1.        ],\n",
              "         [ 1.        ,  1.        ,  1.        ],\n",
              "         [ 1.        ,  1.        ,  1.        ]],\n",
              "\n",
              "        [[ 1.        ,  1.        ,  1.        ],\n",
              "         [ 0.9843137 ,  0.9843137 ,  0.9843137 ],\n",
              "         [ 0.9843137 ,  0.9843137 ,  0.9843137 ],\n",
              "         ...,\n",
              "         [ 0.9843137 ,  0.9843137 ,  0.9843137 ],\n",
              "         [ 0.9843137 ,  0.9843137 ,  0.9843137 ],\n",
              "         [ 1.        ,  1.        ,  1.        ]]],\n",
              "\n",
              "\n",
              "       [[[ 0.9607843 ,  0.9607843 ,  0.94509804],\n",
              "         [ 0.94509804,  0.9529412 ,  0.90588236],\n",
              "         [ 0.9372549 ,  0.94509804,  0.8745098 ],\n",
              "         ...,\n",
              "         [ 0.9607843 ,  0.9607843 ,  0.92941177],\n",
              "         [ 0.9607843 ,  0.9607843 ,  0.92941177],\n",
              "         [ 0.9529412 ,  0.9607843 ,  0.92941177]],\n",
              "\n",
              "        [[ 0.9607843 ,  0.96862745,  0.92156863],\n",
              "         [ 0.94509804,  0.9529412 ,  0.8666667 ],\n",
              "         [ 0.9372549 ,  0.9372549 ,  0.8352941 ],\n",
              "         ...,\n",
              "         [ 0.96862745,  0.96862745,  0.8980392 ],\n",
              "         [ 0.96862745,  0.9764706 ,  0.90588236],\n",
              "         [ 0.9607843 ,  0.96862745,  0.90588236]],\n",
              "\n",
              "        [[ 0.96862745,  0.96862745,  0.9137255 ],\n",
              "         [ 0.9607843 ,  0.94509804,  0.85882354],\n",
              "         [ 0.9607843 ,  0.92156863,  0.827451  ],\n",
              "         ...,\n",
              "         [ 0.9607843 ,  0.9529412 ,  0.8666667 ],\n",
              "         [ 0.9607843 ,  0.9529412 ,  0.88235295],\n",
              "         [ 0.9607843 ,  0.9529412 ,  0.8980392 ]],\n",
              "\n",
              "        ...,\n",
              "\n",
              "        [[ 0.73333335,  0.67058825,  0.49803922],\n",
              "         [ 0.73333335,  0.6156863 ,  0.38039216],\n",
              "         [ 0.7647059 ,  0.62352943,  0.41960785],\n",
              "         ...,\n",
              "         [ 0.56078434,  0.38039216,  0.05098039],\n",
              "         [ 0.62352943,  0.5137255 ,  0.29411766],\n",
              "         [ 0.827451  ,  0.79607844,  0.77254903]],\n",
              "\n",
              "        [[ 0.7647059 ,  0.7490196 ,  0.6       ],\n",
              "         [ 0.78039217,  0.7176471 ,  0.5372549 ],\n",
              "         [ 0.79607844,  0.69411767,  0.5686275 ],\n",
              "         ...,\n",
              "         [ 0.6       ,  0.4509804 ,  0.18431373],\n",
              "         [ 0.6627451 ,  0.5764706 ,  0.4117647 ],\n",
              "         [ 0.8352941 ,  0.81960785,  0.7882353 ]],\n",
              "\n",
              "        [[ 0.827451  ,  0.827451  ,  0.77254903],\n",
              "         [ 0.8352941 ,  0.81960785,  0.75686276],\n",
              "         [ 0.84313726,  0.8039216 ,  0.7647059 ],\n",
              "         ...,\n",
              "         [ 0.7176471 ,  0.6392157 ,  0.52156866],\n",
              "         [ 0.7490196 ,  0.69411767,  0.62352943],\n",
              "         [ 0.81960785,  0.8039216 ,  0.7882353 ]]],\n",
              "\n",
              "\n",
              "       ...,\n",
              "\n",
              "\n",
              "       [[[ 0.94509804,  0.9137255 ,  0.8980392 ],\n",
              "         [ 0.88235295,  0.81960785,  0.7490196 ],\n",
              "         [ 0.8509804 ,  0.81960785,  0.7490196 ],\n",
              "         ...,\n",
              "         [ 0.827451  ,  0.79607844,  0.7411765 ],\n",
              "         [ 0.8039216 ,  0.7882353 ,  0.7411765 ],\n",
              "         [ 0.8666667 ,  0.85882354,  0.827451  ]],\n",
              "\n",
              "        [[ 0.7647059 ,  0.67058825,  0.6       ],\n",
              "         [ 0.45882353,  0.30980393,  0.16862746],\n",
              "         [ 0.37254903,  0.24705882,  0.09803922],\n",
              "         ...,\n",
              "         [ 0.2784314 ,  0.16078432,  0.05098039],\n",
              "         [ 0.22352941,  0.12941177,  0.04313726],\n",
              "         [ 0.5058824 ,  0.44313726,  0.38039216]],\n",
              "\n",
              "        [[ 0.6392157 ,  0.52156866,  0.40392157],\n",
              "         [ 0.12941177, -0.05882353, -0.25490198],\n",
              "         [ 0.09019608, -0.09803922, -0.31764707],\n",
              "         ...,\n",
              "         [-0.14509805, -0.3254902 , -0.4745098 ],\n",
              "         [-0.14509805, -0.29411766, -0.40392157],\n",
              "         [ 0.23137255,  0.13725491,  0.05882353]],\n",
              "\n",
              "        ...,\n",
              "\n",
              "        [[ 0.2627451 ,  0.24705882,  0.2       ],\n",
              "         [-0.69411767, -0.73333335, -0.78039217],\n",
              "         [-0.78039217, -0.84313726, -0.8901961 ],\n",
              "         ...,\n",
              "         [-0.27058825, -0.43529412, -0.58431375],\n",
              "         [-0.33333334, -0.4745098 , -0.60784316],\n",
              "         [ 0.06666667, -0.01176471, -0.09803922]],\n",
              "\n",
              "        [[ 0.41960785,  0.40392157,  0.34901962],\n",
              "         [-0.3254902 , -0.34901962, -0.39607844],\n",
              "         [-0.44313726, -0.46666667, -0.5137255 ],\n",
              "         ...,\n",
              "         [-0.04313726, -0.19215687, -0.3019608 ],\n",
              "         [-0.1764706 , -0.2784314 , -0.35686275],\n",
              "         [ 0.18431373,  0.13725491,  0.10588235]],\n",
              "\n",
              "        [[ 0.75686276,  0.7490196 ,  0.70980394],\n",
              "         [ 0.4117647 ,  0.4117647 ,  0.37254903],\n",
              "         [ 0.35686275,  0.34901962,  0.30980393],\n",
              "         ...,\n",
              "         [ 0.5372549 ,  0.46666667,  0.4117647 ],\n",
              "         [ 0.43529412,  0.39607844,  0.3647059 ],\n",
              "         [ 0.6       ,  0.60784316,  0.60784316]]],\n",
              "\n",
              "\n",
              "       [[[ 0.22352941,  0.20784314,  0.07450981],\n",
              "         [ 0.18431373,  0.14509805, -0.03529412],\n",
              "         [ 0.18431373,  0.12941177, -0.01960784],\n",
              "         ...,\n",
              "         [ 0.21568628,  0.1764706 ,  0.01176471],\n",
              "         [ 0.19215687,  0.16078432, -0.01960784],\n",
              "         [ 0.45882353,  0.44313726,  0.2784314 ]],\n",
              "\n",
              "        [[-0.13725491, -0.16862746, -0.39607844],\n",
              "         [-0.09019608, -0.15294118, -0.5137255 ],\n",
              "         [-0.10588235, -0.20784314, -0.5529412 ],\n",
              "         ...,\n",
              "         [-0.09019608, -0.16862746, -0.52156866],\n",
              "         [-0.12941177, -0.19215687, -0.56078434],\n",
              "         [ 0.05098039,  0.01176471, -0.2784314 ]],\n",
              "\n",
              "        [[-0.09019608, -0.12156863, -0.35686275],\n",
              "         [-0.02745098, -0.07450981, -0.48235294],\n",
              "         [ 0.00392157, -0.07450981, -0.4745098 ],\n",
              "         ...,\n",
              "         [-0.22352941, -0.34117648, -0.6627451 ],\n",
              "         [-0.20784314, -0.31764707, -0.6627451 ],\n",
              "         [ 0.01176471, -0.07450981, -0.3254902 ]],\n",
              "\n",
              "        ...,\n",
              "\n",
              "        [[-0.14509805, -0.20784314, -0.41960785],\n",
              "         [-0.12156863, -0.21568628, -0.5764706 ],\n",
              "         [-0.07450981, -0.1764706 , -0.5137255 ],\n",
              "         ...,\n",
              "         [-0.01176471, -0.11372549, -0.49019608],\n",
              "         [-0.01176471, -0.12941177, -0.52156866],\n",
              "         [ 0.08235294, -0.02745098, -0.3019608 ]],\n",
              "\n",
              "        [[-0.23137255, -0.2784314 , -0.5058824 ],\n",
              "         [-0.27058825, -0.35686275, -0.7254902 ],\n",
              "         [-0.24705882, -0.34901962, -0.7019608 ],\n",
              "         ...,\n",
              "         [-0.12156863, -0.24705882, -0.6313726 ],\n",
              "         [-0.14509805, -0.2784314 , -0.64705884],\n",
              "         [-0.00392157, -0.11372549, -0.37254903]],\n",
              "\n",
              "        [[ 0.33333334,  0.30980393,  0.13725491],\n",
              "         [ 0.25490198,  0.2       , -0.07450981],\n",
              "         [ 0.2784314 ,  0.19215687, -0.06666667],\n",
              "         ...,\n",
              "         [ 0.2627451 ,  0.18431373, -0.10588235],\n",
              "         [ 0.22352941,  0.12941177, -0.16078432],\n",
              "         [ 0.2784314 ,  0.20784314, -0.01176471]]],\n",
              "\n",
              "\n",
              "       [[[-0.75686276, -0.4745098 , -0.04313726],\n",
              "         [-0.7647059 , -0.46666667, -0.02745098],\n",
              "         [-0.75686276, -0.45882353, -0.01176471],\n",
              "         ...,\n",
              "         [-0.7490196 , -0.4509804 ,  0.01176471],\n",
              "         [-0.7490196 , -0.4509804 , -0.01960784],\n",
              "         [-0.7490196 , -0.45882353, -0.04313726]],\n",
              "\n",
              "        [[-0.77254903, -0.46666667, -0.01176471],\n",
              "         [-0.78039217, -0.45882353,  0.00392157],\n",
              "         [-0.7647059 , -0.45882353,  0.01960784],\n",
              "         ...,\n",
              "         [-0.7490196 , -0.4509804 ,  0.02745098],\n",
              "         [-0.7490196 , -0.45882353, -0.00392157],\n",
              "         [-0.75686276, -0.45882353, -0.02745098]],\n",
              "\n",
              "        [[-0.7647059 , -0.4745098 , -0.01176471],\n",
              "         [-0.77254903, -0.46666667,  0.00392157],\n",
              "         [-0.7647059 , -0.45882353,  0.01960784],\n",
              "         ...,\n",
              "         [-0.7490196 , -0.43529412,  0.03529412],\n",
              "         [-0.75686276, -0.4509804 ,  0.01960784],\n",
              "         [-0.7647059 , -0.45882353, -0.00392157]],\n",
              "\n",
              "        ...,\n",
              "\n",
              "        [[-0.69411767, -0.6784314 , -0.40392157],\n",
              "         [-0.7019608 , -0.67058825, -0.40392157],\n",
              "         [-0.7019608 , -0.654902  , -0.3882353 ],\n",
              "         ...,\n",
              "         [-0.69411767, -0.654902  , -0.38039216],\n",
              "         [-0.7019608 , -0.67058825, -0.39607844],\n",
              "         [-0.69411767, -0.6784314 , -0.40392157]],\n",
              "\n",
              "        [[-0.6862745 , -0.69411767, -0.42745098],\n",
              "         [-0.69411767, -0.6862745 , -0.41960785],\n",
              "         [-0.69411767, -0.6784314 , -0.40392157],\n",
              "         ...,\n",
              "         [-0.69411767, -0.6784314 , -0.40392157],\n",
              "         [-0.6862745 , -0.6784314 , -0.41960785],\n",
              "         [-0.6862745 , -0.69411767, -0.42745098]],\n",
              "\n",
              "        [[-0.6862745 , -0.69411767, -0.4509804 ],\n",
              "         [-0.6862745 , -0.69411767, -0.44313726],\n",
              "         [-0.6862745 , -0.69411767, -0.43529412],\n",
              "         ...,\n",
              "         [-0.6784314 , -0.7019608 , -0.43529412],\n",
              "         [-0.69411767, -0.7019608 , -0.45882353],\n",
              "         [-0.6862745 , -0.70980394, -0.4745098 ]]]], dtype=float32)"
            ]
          },
          "metadata": {},
          "execution_count": 14
        }
      ],
      "source": [
        "X_train"
      ]
    },
    {
      "cell_type": "code",
      "execution_count": 15,
      "metadata": {
        "id": "E5owG0BwJn0z"
      },
      "outputs": [],
      "source": [
        "# Create the tensorflow dstaset\n",
        "train_dataset = tf.data.Dataset.from_tensor_slices(X_train).shuffle(BUFFER_SIZE).batch(BATCH_SIZE)"
      ]
    },
    {
      "cell_type": "code",
      "execution_count": 16,
      "metadata": {
        "id": "N28lhGS6J65P"
      },
      "outputs": [],
      "source": [
        "LATENT_DIM = 100\n",
        "WEIGHT_UNIT = keras.initializers.RandomNormal(mean=0.01, stddev=0.02)"
      ]
    },
    {
      "cell_type": "code",
      "execution_count": 17,
      "metadata": {
        "colab": {
          "base_uri": "https://localhost:8080/"
        },
        "id": "erd_C2d3J_oX",
        "outputId": "ed92976f-139b-4fb1-adee-cfe500ea4ed8"
      },
      "outputs": [
        {
          "output_type": "stream",
          "name": "stderr",
          "text": [
            "/usr/local/lib/python3.11/dist-packages/keras/src/layers/core/dense.py:87: UserWarning: Do not pass an `input_shape`/`input_dim` argument to a layer. When using Sequential models, prefer using an `Input(shape)` object as the first layer in the model instead.\n",
            "  super().__init__(activity_regularizer=activity_regularizer, **kwargs)\n"
          ]
        }
      ],
      "source": [
        "def build_generator():\n",
        "  model = keras.Sequential([\n",
        "    layers.Dense(8*8*256, use_bias=False, input_shape=(LATENT_DIM,)),\n",
        "    layers.BatchNormalization(), # normalize the activation of the previous layer\n",
        "    layers.LeakyReLU(),\n",
        "\n",
        "    layers.Reshape((8, 8, 256)),\n",
        "\n",
        "    layers.Conv2DTranspose(128, (5, 5), strides=(1, 1), padding='same', use_bias=False),\n",
        "    layers.BatchNormalization(),\n",
        "    layers.LeakyReLU(0.2),\n",
        "\n",
        "    layers.Conv2DTranspose(128, (5, 5), strides=(2, 2), padding='same', use_bias=False),\n",
        "    layers.BatchNormalization(),\n",
        "    layers.LeakyReLU(0.2),\n",
        "\n",
        "    layers.Conv2DTranspose(3, (5, 5), strides=(2, 2), padding='same', use_bias=False, activation='tanh')\n",
        "  ])\n",
        "  return model\n",
        "\n",
        "generator = build_generator()\n"
      ]
    },
    {
      "cell_type": "code",
      "execution_count": 18,
      "metadata": {
        "colab": {
          "base_uri": "https://localhost:8080/"
        },
        "id": "ijQTAW2RKJK8",
        "outputId": "c87fc6c6-0b8e-44bf-82c5-d743f041eb5b"
      },
      "outputs": [
        {
          "output_type": "stream",
          "name": "stderr",
          "text": [
            "/usr/local/lib/python3.11/dist-packages/keras/src/layers/convolutional/base_conv.py:107: UserWarning: Do not pass an `input_shape`/`input_dim` argument to a layer. When using Sequential models, prefer using an `Input(shape)` object as the first layer in the model instead.\n",
            "  super().__init__(activity_regularizer=activity_regularizer, **kwargs)\n"
          ]
        }
      ],
      "source": [
        "# build our discriminator\n",
        "def build_discriminator():\n",
        "  model = keras.Sequential([\n",
        "      # First COnv2d layer: Detect low level features in the images (edges, textures, ...)\n",
        "      layers.Conv2D(64, (5,5), strides=(2,2), padding='same', input_shape=[32,32,3]),\n",
        "\n",
        "      # LeakyRelu activation function to avoid dead neurons and allow negative gradients\n",
        "      layers.LeakyReLU(0.2),\n",
        "      # dropout to prevent overfitting and improve generalization\n",
        "      layers.Dropout(0.3),\n",
        "\n",
        "      # First COnv2d layer: learn more complex feature from the images\n",
        "      layers.Conv2D(128, (5,5), strides=(2,2), padding='same'),\n",
        "      layers.LeakyReLU(0.2),\n",
        "      layers.Dropout(0.3),\n",
        "\n",
        "      # Flatten the 2D feature maps into a 1D vector for the Dense layer\n",
        "      layers.Flatten(),\n",
        "\n",
        "      layers.Dense(3, activation='sigmoid')\n",
        "\n",
        "  ])\n",
        "\n",
        "  return model\n",
        "\n",
        "discriminator = build_discriminator()"
      ]
    },
    {
      "cell_type": "code",
      "execution_count": 19,
      "metadata": {
        "id": "sctSsTieKR4Z"
      },
      "outputs": [],
      "source": [
        "cross_entropy = keras.losses.BinaryCrossentropy()"
      ]
    },
    {
      "cell_type": "code",
      "execution_count": 20,
      "metadata": {
        "id": "lspAZPywKWyT"
      },
      "outputs": [],
      "source": [
        "# Create the discriminator loss\n",
        "def discriminator_loss(real_output, fake_output):\n",
        "  # calculates the loss when the discriminator classify fake images\n",
        "  real_loss = cross_entropy(tf.ones_like(real_output), real_output)\n",
        "\n",
        "  #ccalculate the loss when the discriminator classifies fake images\n",
        "  fake_loss = cross_entropy(tf.zeros_like(fake_output), fake_output)\n",
        "\n",
        " # Return the sum of both losses\n",
        "  return real_loss + fake_loss"
      ]
    },
    {
      "cell_type": "code",
      "execution_count": 21,
      "metadata": {
        "id": "3s0HP9VoKc3l"
      },
      "outputs": [],
      "source": [
        "def generator_loss(fake_output):\n",
        "  return cross_entropy(tf.ones_like(fake_output), fake_output)"
      ]
    },
    {
      "cell_type": "code",
      "execution_count": 22,
      "metadata": {
        "id": "rVSMAMnTKp_X"
      },
      "outputs": [],
      "source": [
        "generator_optimizer = keras.optimizers.Adam(learning_rate=0.0002, beta_1 = 0.5)\n",
        "discriminator_optimizer = keras.optimizers.Adam(learning_rate=0.0002, beta_1 = 0.5)"
      ]
    },
    {
      "cell_type": "code",
      "execution_count": 23,
      "metadata": {
        "id": "YL3lda48Kuo8"
      },
      "outputs": [],
      "source": [
        "# Building our sub class model\n",
        "class GAN(keras.Model):\n",
        "  def __init__(self, generator, discriminator):\n",
        "    # initilize the GAN model  with the generator and discriminator\n",
        "    super(GAN, self).__init__()\n",
        "    self.generator = generator #set genrator model\n",
        "    self.discriminator = discriminator # set discriminator moel\n",
        "\n",
        "\n",
        "  def compile(self, g_optimizer, d_optimizer, g_loss, d_loss):\n",
        "    super(GAN, self).compile()\n",
        "    self.g_optimizer = g_optimizer # set the generator optimizer\n",
        "    self.d_optimizer = d_optimizer # set the discriminator optimizer\n",
        "    self.g_loss = g_loss # set the generator loss\n",
        "    self.d_loss = d_loss # set the discriminator loss\n",
        "\n",
        "\n",
        "  def train_step(self, real_images):\n",
        "    # Training logic\n",
        "    batch_size = tf.shape(real_images)[0]\n",
        "\n",
        "    # Train discriminator\n",
        "    noise = tf.random.normal([batch_size, LATENT_DIM])\n",
        "    with tf.GradientTape() as d_tape:\n",
        "        generated_images = self.generator(noise)\n",
        "        real_output = self.discriminator(real_images)\n",
        "        fake_output = self.discriminator(generated_images)\n",
        "        d_loss = self.d_loss(real_output, fake_output)\n",
        "\n",
        "    # Cimputing the gradients for the discriminator based in its loss\n",
        "    d_gradients = d_tape.gradient(d_loss, self.discriminator.trainable_variables)\n",
        "    self.d_optimizer.apply_gradients(zip(d_gradients, self.discriminator.trainable_variables))\n",
        "\n",
        "    # Train generator\n",
        "    noise = tf.random.normal([batch_size, LATENT_DIM])\n",
        "    with tf.GradientTape() as g_tape:\n",
        "        generated_images = self.generator(noise)\n",
        "        fake_output = self.discriminator(generated_images)\n",
        "        g_loss = self.g_loss(fake_output)\n",
        "\n",
        "    g_gradients = g_tape.gradient(g_loss, self.generator.trainable_variables)\n",
        "    self.g_optimizer.apply_gradients(zip(g_gradients, self.generator.trainable_variables))\n",
        "\n",
        "    return {\"d_loss\": d_loss, \"g_loss\": g_loss}\n"
      ]
    },
    {
      "cell_type": "code",
      "execution_count": 24,
      "metadata": {
        "id": "6nRRPkfpK1gQ"
      },
      "outputs": [],
      "source": [
        "EPOCH = 100"
      ]
    },
    {
      "cell_type": "code",
      "execution_count": 25,
      "metadata": {
        "id": "_Rz49UbsK6YQ"
      },
      "outputs": [],
      "source": [
        "gan = GAN(generator=generator, discriminator=discriminator)\n",
        "\n",
        "gan.compile(\n",
        "    g_optimizer=generator_optimizer,\n",
        "    d_optimizer=discriminator_optimizer,\n",
        "    g_loss=generator_loss,\n",
        "    d_loss=discriminator_loss\n",
        ")"
      ]
    },
    {
      "cell_type": "code",
      "execution_count": 26,
      "metadata": {
        "id": "w6KaKk0bK9Yp"
      },
      "outputs": [],
      "source": [
        "class ImageCallback(keras.callbacks.Callback):\n",
        "  def __init__(self, num_images=16, latent_dim=100):\n",
        "    self.num_images = num_images\n",
        "    self.latent_dim = latent_dim\n",
        "    self.seed = tf.random.normal([num_images, latent_dim])\n",
        "\n",
        "  def on_epoch_end(self, epoch, logs=None):\n",
        "    if epoch % 5 == 0:\n",
        "      generated_images = self.model.generator(self.seed)\n",
        "      generated_images = (generated_images * 127.5) + 127.5 #rescaleto range [0, 233]\n",
        "\n",
        "      plt.figure(figsize=(10,10))\n",
        "      for i in range(self.num_images):\n",
        "        plt.subplot(4, 4, i+1)\n",
        "        plt.imshow(generated_images[i].numpy().astype(\"uint8\"), cmap=\"gray\")\n",
        "        plt.axis(\"off\")\n",
        "      plt.show()\n"
      ]
    },
    {
      "cell_type": "code",
      "execution_count": 27,
      "metadata": {
        "id": "tvK4KZm6LBpL"
      },
      "outputs": [],
      "source": [
        "gan = GAN(generator=generator, discriminator=discriminator)\n",
        "\n",
        "gan.compile(\n",
        "    g_optimizer=generator_optimizer,\n",
        "    d_optimizer=discriminator_optimizer,\n",
        "    g_loss=generator_loss,\n",
        "    d_loss=discriminator_loss\n",
        ")\n"
      ]
    },
    {
      "cell_type": "code",
      "execution_count": null,
      "metadata": {
        "colab": {
          "background_save": true,
          "base_uri": "https://localhost:8080/"
        },
        "id": "GUUf5pAsLGyV",
        "outputId": "5511f301-9d2d-409c-c9d0-f0dd90b57c3d"
      },
      "outputs": [
        {
          "output_type": "stream",
          "name": "stdout",
          "text": [
            "Epoch 1/100\n",
            "\u001b[1m153/196\u001b[0m \u001b[32m━━━━━━━━━━━━━━━\u001b[0m\u001b[37m━━━━━\u001b[0m \u001b[1m4:05\u001b[0m 6s/step - d_loss: 1.0650 - g_loss: 1.0118"
          ]
        }
      ],
      "source": [
        "history = gan.fit(train_dataset, epochs=EPOCH, callbacks=[ImageCallback()])"
      ]
    },
    {
      "cell_type": "code",
      "execution_count": null,
      "metadata": {
        "id": "M_F8HhFmLNCN"
      },
      "outputs": [],
      "source": []
    }
  ],
  "metadata": {
    "colab": {
      "provenance": [],
      "authorship_tag": "ABX9TyPUzKv2sL2ABzk/Zde9NCEl",
      "include_colab_link": true
    },
    "kernelspec": {
      "display_name": "Python 3",
      "name": "python3"
    },
    "language_info": {
      "name": "python"
    }
  },
  "nbformat": 4,
  "nbformat_minor": 0
}